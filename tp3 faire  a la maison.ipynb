{
 "cells": [
  {
   "cell_type": "markdown",
   "id": "1df3cd2a",
   "metadata": {},
   "source": [
    "1"
   ]
  },
  {
   "cell_type": "code",
   "execution_count": 12,
   "id": "e2af3431",
   "metadata": {},
   "outputs": [
    {
     "name": "stdout",
     "output_type": "stream",
     "text": [
      "nous avons  29  elements dans la chaine\n"
     ]
    }
   ],
   "source": [
    "x=\"apprenants de apd sont intelligent\"\n",
    "y=len(x)\n",
    "som=0\n",
    "for i in range(0,y):\n",
    "    if x[i] in[\"a\",\"p\",\"p\",\"r\",\"e\",\"n\",\"a\",\"n\",\"t\",\"s\",\"d\",\"e\",\"a\",\"p\",\"d\",\"i\",\"n\",\"t\",\"e\",\"l\",\"l\",\"i\",\"g\",\"e\",\"n\",\"t\",\"s\"]:\n",
    "        som=som+1\n",
    "print(\"nous avons \",som,\" elements dans la chaine\") \n",
    "\n",
    "\n",
    "    "
   ]
  },
  {
   "cell_type": "markdown",
   "id": "3ad7fe5b",
   "metadata": {},
   "source": [
    "2"
   ]
  },
  {
   "cell_type": "code",
   "execution_count": 38,
   "id": "84a23167",
   "metadata": {},
   "outputs": [
    {
     "name": "stdout",
     "output_type": "stream",
     "text": [
      "igent sont les 5 dernieres lettres\n"
     ]
    }
   ],
   "source": [
    "x=\"apprenants de apd sont intelligent\"\n",
    "y=len(x)\n",
    "print(x[29:],\"sont les 5 dernieres lettres\")"
   ]
  },
  {
   "cell_type": "markdown",
   "id": "862a93e1",
   "metadata": {},
   "source": [
    "3"
   ]
  },
  {
   "cell_type": "code",
   "execution_count": 5,
   "id": "915883ec",
   "metadata": {},
   "outputs": [
    {
     "name": "stdout",
     "output_type": "stream",
     "text": [
      "le mot possede 3  voyelle\n"
     ]
    }
   ],
   "source": [
    "x=\"apprenants\"\n",
    "n=len(x)\n",
    "nbvoyelle=0\n",
    "for i in range(0,n):\n",
    "    if x[i]in [\"a\",\"i\",\"o\",\"e\",\"u\",\"y\"]:\n",
    "          nbvoyelle+=1\n",
    "print('le mot possede',nbvoyelle,' voyelle')\n"
   ]
  },
  {
   "cell_type": "code",
   "execution_count": null,
   "id": "241e5884",
   "metadata": {},
   "outputs": [],
   "source": []
  },
  {
   "cell_type": "markdown",
   "id": "5154354c",
   "metadata": {},
   "source": [
    "\n",
    "4\n"
   ]
  },
  {
   "cell_type": "code",
   "execution_count": 48,
   "id": "ffc39ddc",
   "metadata": {},
   "outputs": [
    {
     "name": "stdout",
     "output_type": "stream",
     "text": [
      "['APD', 'GDE', 'DBE', 'RESEAU', 'ABD']\n",
      "[\"l'impossible n' est pas APD\", 'GDE', 'DBE', 'RESEAU', 'ABD']\n"
     ]
    }
   ],
   "source": [
    "listeisep=[\"APD\",\"GDE\",\"DBE\",\"RESEAU\",\"ABD\"]\n",
    "print(listeisep)\n",
    "listeisep[0]=\"l'impossible n' est pas APD\"\n",
    "print(listeisep)\n",
    "    "
   ]
  },
  {
   "cell_type": "markdown",
   "id": "2e195ea7",
   "metadata": {},
   "source": [
    "5"
   ]
  },
  {
   "cell_type": "code",
   "execution_count": 62,
   "id": "a8e746d1",
   "metadata": {},
   "outputs": [
    {
     "name": "stdout",
     "output_type": "stream",
     "text": [
      "voici la liste des nombres pairs [2, 4, 6, 8, 10]\n",
      "voici la liste des nombres impairs [1, 3, 5, 7, 9]\n"
     ]
    }
   ],
   "source": [
    "x=[1,2,3,4,5,6,7,8,9,10]\n",
    "pair=[]\n",
    "impaires=[]\n",
    "for i in x:\n",
    "    if i%2 == 0:\n",
    "        pair.append(i)\n",
    "    else:\n",
    "        impaires.append(i)\n",
    "print(\"voici la liste des nombres pairs\",pair )\n",
    "print(\"voici la liste des nombres impairs\",impaires)"
   ]
  },
  {
   "cell_type": "code",
   "execution_count": null,
   "id": "470db7b3",
   "metadata": {},
   "outputs": [],
   "source": []
  },
  {
   "cell_type": "markdown",
   "id": "be3815af",
   "metadata": {},
   "source": [
    "6"
   ]
  },
  {
   "cell_type": "code",
   "execution_count": 21,
   "id": "410016a4",
   "metadata": {},
   "outputs": [
    {
     "name": "stdout",
     "output_type": "stream",
     "text": [
      "homme+femme= ['amadou bA', 'ismaila', 'ado45', 'thierno', 'touradou', 'maman', 'mairame', 'kadidja', 'oumoul', 'mabajr']\n"
     ]
    }
   ],
   "source": [
    "homme=[\"amadou bA\",\"ismaila\",\"ado45\",\"thierno\",\"touradou\"]\n",
    "femme=[\"maman\",\"mairame\",\"kadidja\",\"oumoul\",\"mabajr\"]\n",
    "print(\"homme+femme=\",homme+femme)"
   ]
  },
  {
   "cell_type": "markdown",
   "id": "94abb989",
   "metadata": {},
   "source": [
    "7&&8"
   ]
  },
  {
   "cell_type": "code",
   "execution_count": 82,
   "id": "83e029e9",
   "metadata": {},
   "outputs": [
    {
     "name": "stdout",
     "output_type": "stream",
     "text": [
      "le plus petit element de la liste est 1 et sa position est  4\n",
      "86\n"
     ]
    }
   ],
   "source": [
    "x=[21,3,4,75,1,56,85]\n",
    "print(\"le plus petit element de la liste est\",min(x),\"et sa position est \",x.index(min(x)))\n",
    " print(min(x)+max(x))   "
   ]
  },
  {
   "cell_type": "markdown",
   "id": "47bfeb8f",
   "metadata": {},
   "source": [
    "9"
   ]
  },
  {
   "cell_type": "code",
   "execution_count": 86,
   "id": "ed62fbd5",
   "metadata": {},
   "outputs": [
    {
     "name": "stdout",
     "output_type": "stream",
     "text": [
      "voici la liste des entiers divisible par 7 compris entre 1 et 100 [7, 14, 21, 28, 35, 42, 49, 56, 63, 70, 77, 84, 91, 98]\n"
     ]
    }
   ],
   "source": [
    "l=[]\n",
    "for i in range(1,100):\n",
    "    if i%7==0:\n",
    "        l.append(i)\n",
    "print(\"voici la liste des entiers divisibles par 7 compris entre 1 et 100\",l)"
   ]
  },
  {
   "cell_type": "markdown",
   "id": "4d016fcf",
   "metadata": {},
   "source": [
    "10"
   ]
  },
  {
   "cell_type": "code",
   "execution_count": 96,
   "id": "a16b49c5",
   "metadata": {},
   "outputs": [
    {
     "data": {
      "text/plain": [
       "2"
      ]
     },
     "execution_count": 96,
     "metadata": {},
     "output_type": "execute_result"
    }
   ],
   "source": [
    "l=\"merci Mr niang\"\n",
    "l.count(\"i\")\n"
   ]
  },
  {
   "cell_type": "markdown",
   "id": "68b6b393",
   "metadata": {},
   "source": [
    "11"
   ]
  },
  {
   "cell_type": "code",
   "execution_count": 101,
   "id": "f7229c8f",
   "metadata": {},
   "outputs": [
    {
     "name": "stdout",
     "output_type": "stream",
     "text": [
      "['a', ' ', 'r', 'e', 'n', 'd', 'r', 'e', ' ', 'l', 'u', 'n', 'd', 'i']\n"
     ]
    }
   ],
   "source": [
    "l=[]\n",
    "l.extend(\"a rendre lundi\")\n",
    "print(l)"
   ]
  },
  {
   "cell_type": "code",
   "execution_count": null,
   "id": "3dfe42de",
   "metadata": {},
   "outputs": [],
   "source": []
  }
 ],
 "metadata": {
  "kernelspec": {
   "display_name": "Python 3",
   "language": "python",
   "name": "python3"
  },
  "language_info": {
   "codemirror_mode": {
    "name": "ipython",
    "version": 3
   },
   "file_extension": ".py",
   "mimetype": "text/x-python",
   "name": "python",
   "nbconvert_exporter": "python",
   "pygments_lexer": "ipython3",
   "version": "3.8.8"
  }
 },
 "nbformat": 4,
 "nbformat_minor": 5
}
